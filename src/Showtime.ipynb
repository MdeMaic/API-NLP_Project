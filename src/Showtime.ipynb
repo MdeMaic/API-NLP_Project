{
 "cells": [
  {
   "cell_type": "markdown",
   "metadata": {},
   "source": [
    "# Showtime"
   ]
  },
  {
   "cell_type": "code",
   "execution_count": 1,
   "metadata": {},
   "outputs": [],
   "source": [
    "import requests"
   ]
  },
  {
   "cell_type": "markdown",
   "metadata": {},
   "source": [
    "### Get all users registrados\n",
    "`@app.route(\"/get/users\")`"
   ]
  },
  {
   "cell_type": "code",
   "execution_count": 2,
   "metadata": {},
   "outputs": [
    {
     "data": {
      "text/plain": [
       "[{'user_name': 'Chandler', 'user_id': 1},\n",
       " {'user_name': 'Ross', 'user_id': 2},\n",
       " {'user_name': 'Rachel', 'user_id': 3},\n",
       " {'user_name': 'Monica', 'user_id': 4},\n",
       " {'user_name': 'Phoebe', 'user_id': 5}]"
      ]
     },
     "execution_count": 2,
     "metadata": {},
     "output_type": "execute_result"
    }
   ],
   "source": [
    "requests.get(\"http://localhost:5000/get/users\").json()"
   ]
  },
  {
   "cell_type": "markdown",
   "metadata": {},
   "source": [
    "### Insertar conversación de todos los usuarios de un episodio\n",
    "`@app.route(\"/insert/conver/episode/<episode_number>\")`"
   ]
  },
  {
   "cell_type": "code",
   "execution_count": 3,
   "metadata": {},
   "outputs": [
    {
     "data": {
      "text/plain": [
       "\"Se van a insertar ['Joey', 'Chandler', 'Phoebe', 'Monica', 'Ross', 'Rachel'], pero no todos están registrados. Revisalo por favor :)\""
      ]
     },
     "execution_count": 3,
     "metadata": {},
     "output_type": "execute_result"
    }
   ],
   "source": [
    "requests.get(\"http://localhost:5000/insert/conver/episode/1\").text"
   ]
  },
  {
   "cell_type": "markdown",
   "metadata": {},
   "source": [
    "### Insertar usuario\n",
    "`@app.route(\"/insert/user/<name>\")`"
   ]
  },
  {
   "cell_type": "code",
   "execution_count": 4,
   "metadata": {},
   "outputs": [
    {
     "data": {
      "text/plain": [
       "'Perfecto! El usuario Joey se ha ingresado correctamente'"
      ]
     },
     "execution_count": 4,
     "metadata": {},
     "output_type": "execute_result"
    }
   ],
   "source": [
    "requests.get(\"http://localhost:5000/insert/user/joey\").text"
   ]
  },
  {
   "cell_type": "code",
   "execution_count": 5,
   "metadata": {},
   "outputs": [
    {
     "data": {
      "text/plain": [
       "'Joey ya existe en la base de datos. Por favor elige otro nombre.'"
      ]
     },
     "execution_count": 5,
     "metadata": {},
     "output_type": "execute_result"
    }
   ],
   "source": [
    "requests.get(\"http://localhost:5000/insert/user/JoEy\").text"
   ]
  },
  {
   "cell_type": "code",
   "execution_count": 6,
   "metadata": {},
   "outputs": [
    {
     "data": {
      "text/plain": [
       "[{'user_name': 'Chandler', 'user_id': 1},\n",
       " {'user_name': 'Ross', 'user_id': 2},\n",
       " {'user_name': 'Rachel', 'user_id': 3},\n",
       " {'user_name': 'Monica', 'user_id': 4},\n",
       " {'user_name': 'Phoebe', 'user_id': 5},\n",
       " {'user_name': 'Joey', 'user_id': 6}]"
      ]
     },
     "execution_count": 6,
     "metadata": {},
     "output_type": "execute_result"
    }
   ],
   "source": [
    "requests.get(\"http://localhost:5000/get/users\").json()"
   ]
  },
  {
   "cell_type": "markdown",
   "metadata": {},
   "source": [
    "#### Ahora sí que debería funcionar el ingreso de coversaciones del episodio 1"
   ]
  },
  {
   "cell_type": "code",
   "execution_count": 19,
   "metadata": {},
   "outputs": [
    {
     "data": {
      "text/plain": [
       "'El episodio 1 ya estaba insertado en la base de datos.'"
      ]
     },
     "execution_count": 19,
     "metadata": {},
     "output_type": "execute_result"
    }
   ],
   "source": [
    "requests.get(\"http://localhost:5000/insert/conver/episode/1\").text"
   ]
  },
  {
   "cell_type": "markdown",
   "metadata": {},
   "source": [
    "# CONVERSATIONS\n",
    "### Get one user conversation\n",
    "`@app.route(\"/get/conver/user/<name>\")`"
   ]
  },
  {
   "cell_type": "code",
   "execution_count": 8,
   "metadata": {},
   "outputs": [
    {
     "data": {
      "text/plain": [
       "[{'user_order': 0,\n",
       "  'episode_number': 1,\n",
       "  'quote_order': 1,\n",
       "  'quote': \"C'mon, you're going out with the guy! There's gotta be something wrong with him!\"},\n",
       " {'user_order': 1,\n",
       "  'episode_number': 1,\n",
       "  'quote_order': 10,\n",
       "  'quote': 'Instead of...?'},\n",
       " {'user_order': 2,\n",
       "  'episode_number': 1,\n",
       "  'quote_order': 12,\n",
       "  'quote': 'Never had that dream.'},\n",
       " {'user_order': 3,\n",
       "  'episode_number': 1,\n",
       "  'quote_order': 18,\n",
       "  'quote': 'This guy says hello, I wanna kill myself.'},\n",
       " {'user_order': 4, 'episode_number': 1, 'quote_order': 23, 'quote': 'Ohh.'}]"
      ]
     },
     "execution_count": 8,
     "metadata": {},
     "output_type": "execute_result"
    }
   ],
   "source": [
    "requests.get(\"http://localhost:5000/get/conver/user/joey\").json()[:5]"
   ]
  },
  {
   "cell_type": "markdown",
   "metadata": {},
   "source": [
    "### Get all users conversations\n",
    "`@app.route(\"/get/conversations\")`"
   ]
  },
  {
   "cell_type": "code",
   "execution_count": 9,
   "metadata": {},
   "outputs": [
    {
     "data": {
      "text/plain": [
       "[{'msg_id': 0,\n",
       "  'user_name': 'Monica',\n",
       "  'user_order': 0,\n",
       "  'episode_number': 1,\n",
       "  'quote_order': 0,\n",
       "  'quote': \"There's nothing to tell! He's just some guy I work with!\"},\n",
       " {'msg_id': 1,\n",
       "  'user_name': 'Joey',\n",
       "  'user_order': 0,\n",
       "  'episode_number': 1,\n",
       "  'quote_order': 1,\n",
       "  'quote': \"C'mon, you're going out with the guy! There's gotta be something wrong with him!\"},\n",
       " {'msg_id': 2,\n",
       "  'user_name': 'Chandler',\n",
       "  'user_order': 0,\n",
       "  'episode_number': 1,\n",
       "  'quote_order': 2,\n",
       "  'quote': 'All right Joey, be nice.\\xa0 So does he have a hump? A hump and a hairpiece?'},\n",
       " {'msg_id': 3,\n",
       "  'user_name': 'Phoebe',\n",
       "  'user_order': 0,\n",
       "  'episode_number': 1,\n",
       "  'quote_order': 3,\n",
       "  'quote': 'Wait, does he eat chalk?'},\n",
       " {'msg_id': 4,\n",
       "  'user_name': 'Phoebe',\n",
       "  'user_order': 1,\n",
       "  'episode_number': 1,\n",
       "  'quote_order': 4,\n",
       "  'quote': \"Just, 'cause, I don't want her to go through what I went through with Carl- oh!\"},\n",
       " {'msg_id': 5,\n",
       "  'user_name': 'Monica',\n",
       "  'user_order': 1,\n",
       "  'episode_number': 1,\n",
       "  'quote_order': 5,\n",
       "  'quote': \"Okay, everybody relax. This is not even a date. It's just two people going out to dinner and- not having sex.\"},\n",
       " {'msg_id': 6,\n",
       "  'user_name': 'Chandler',\n",
       "  'user_order': 1,\n",
       "  'episode_number': 1,\n",
       "  'quote_order': 6,\n",
       "  'quote': 'Sounds like a date to me.'},\n",
       " {'msg_id': 7,\n",
       "  'user_name': 'Chandler',\n",
       "  'user_order': 2,\n",
       "  'episode_number': 1,\n",
       "  'quote_order': 7,\n",
       "  'quote': \"Alright, so I'm back in high school, I'm standing in the middle of the cafeteria, and I realize I am totally naked.\"},\n",
       " {'msg_id': 9,\n",
       "  'user_name': 'Chandler',\n",
       "  'user_order': 3,\n",
       "  'episode_number': 1,\n",
       "  'quote_order': 9,\n",
       "  'quote': \"Then I look down, and I realize there's a phone... there.\"},\n",
       " {'msg_id': 10,\n",
       "  'user_name': 'Joey',\n",
       "  'user_order': 1,\n",
       "  'episode_number': 1,\n",
       "  'quote_order': 10,\n",
       "  'quote': 'Instead of...?'}]"
      ]
     },
     "execution_count": 9,
     "metadata": {},
     "output_type": "execute_result"
    }
   ],
   "source": [
    "requests.get(\"http://localhost:5000/get/conversations\").json()[:10]"
   ]
  },
  {
   "cell_type": "markdown",
   "metadata": {},
   "source": [
    "## SENTIMENTS\n",
    "### Get one user sentiments\n",
    "`@app.route(\"/get/sentiment/user/<name>\")`"
   ]
  },
  {
   "cell_type": "code",
   "execution_count": 10,
   "metadata": {},
   "outputs": [
    {
     "data": {
      "text/plain": [
       "{'negative': 8.94, 'neutral': 81.9, 'positive': 9.16, 'user_name': 'Joey'}"
      ]
     },
     "execution_count": 10,
     "metadata": {},
     "output_type": "execute_result"
    }
   ],
   "source": [
    "requests.get(\"http://localhost:5000/get/sentiment/user/joey\").json()"
   ]
  },
  {
   "cell_type": "markdown",
   "metadata": {},
   "source": [
    "### Get all users sentiments\n",
    "`@app.route(\"/get/sentiments\")`"
   ]
  },
  {
   "cell_type": "code",
   "execution_count": 11,
   "metadata": {},
   "outputs": [
    {
     "data": {
      "text/plain": [
       "[{'user_name': 'Rachel',\n",
       "  'neg': 0.0709,\n",
       "  'neu': 0.7147,\n",
       "  'pos': 0.2144,\n",
       "  'compound': 0.187},\n",
       " {'user_name': 'Chandler',\n",
       "  'neg': 0.0372,\n",
       "  'neu': 0.792,\n",
       "  'pos': 0.1708,\n",
       "  'compound': 0.1589},\n",
       " {'user_name': 'Monica',\n",
       "  'neg': 0.0669,\n",
       "  'neu': 0.7883,\n",
       "  'pos': 0.1448,\n",
       "  'compound': 0.1085},\n",
       " {'user_name': 'Joey',\n",
       "  'neg': 0.0894,\n",
       "  'neu': 0.819,\n",
       "  'pos': 0.0916,\n",
       "  'compound': -0.0029},\n",
       " {'user_name': 'Phoebe',\n",
       "  'neg': 0.11,\n",
       "  'neu': 0.8135,\n",
       "  'pos': 0.0764,\n",
       "  'compound': -0.0277},\n",
       " {'user_name': 'Ross',\n",
       "  'neg': 0.1259,\n",
       "  'neu': 0.7446,\n",
       "  'pos': 0.1296,\n",
       "  'compound': -0.0376}]"
      ]
     },
     "execution_count": 11,
     "metadata": {},
     "output_type": "execute_result"
    }
   ],
   "source": [
    "requests.get(\"http://localhost:5000/get/sentiments\").json()"
   ]
  },
  {
   "cell_type": "markdown",
   "metadata": {},
   "source": [
    "## RECOMMEND\n",
    "\n",
    "### Insertar converación de un único usuario de Star Wars\n",
    "`@app.route(\"/insert/conver/user/<name>\")`"
   ]
  },
  {
   "cell_type": "code",
   "execution_count": 12,
   "metadata": {},
   "outputs": [
    {
     "data": {
      "text/plain": [
       "\"Threepio NO existe en la base de datos. Utiliza 'insert/user/<user_name>' para crearlo.\""
      ]
     },
     "execution_count": 12,
     "metadata": {},
     "output_type": "execute_result"
    }
   ],
   "source": [
    "requests.get(\"http://localhost:5000/insert/conver/user/threepio\").text"
   ]
  },
  {
   "cell_type": "code",
   "execution_count": 13,
   "metadata": {},
   "outputs": [
    {
     "data": {
      "text/plain": [
       "'Perfecto! El usuario Threepio se ha ingresado correctamente'"
      ]
     },
     "execution_count": 13,
     "metadata": {},
     "output_type": "execute_result"
    }
   ],
   "source": [
    "requests.get(\"http://localhost:5000/insert/user/threepio\").text"
   ]
  },
  {
   "cell_type": "code",
   "execution_count": 14,
   "metadata": {},
   "outputs": [
    {
     "data": {
      "text/plain": [
       "'Conversación añadida al usuario Threepio'"
      ]
     },
     "execution_count": 14,
     "metadata": {},
     "output_type": "execute_result"
    }
   ],
   "source": [
    "requests.get(\"http://localhost:5000/insert/conver/user/threepio\").text"
   ]
  },
  {
   "cell_type": "markdown",
   "metadata": {},
   "source": [
    "#### Get recommendation for a user given\n",
    "`@app.route(\"/get/recommendation/<name>\")`"
   ]
  },
  {
   "cell_type": "code",
   "execution_count": 18,
   "metadata": {},
   "outputs": [
    {
     "data": {
      "text/plain": [
       "[{'user_name': 'Joey', 'Threepio': 0.980470176},\n",
       " {'user_name': 'Ross', 'Threepio': 0.9342402992},\n",
       " {'user_name': 'Monica', 'Threepio': 0.929207612},\n",
       " {'user_name': 'Phoebe', 'Threepio': 0.904571559},\n",
       " {'user_name': 'Chandler', 'Threepio': 0.8889624354},\n",
       " {'user_name': 'Rachel', 'Threepio': 0.8177443563}]"
      ]
     },
     "execution_count": 18,
     "metadata": {},
     "output_type": "execute_result"
    }
   ],
   "source": [
    "requests.get(\"http://localhost:5000/get/recommendation/threepio\").json()"
   ]
  },
  {
   "cell_type": "code",
   "execution_count": null,
   "metadata": {},
   "outputs": [],
   "source": []
  }
 ],
 "metadata": {
  "kernelspec": {
   "display_name": "Python 3",
   "language": "python",
   "name": "python3"
  },
  "language_info": {
   "codemirror_mode": {
    "name": "ipython",
    "version": 3
   },
   "file_extension": ".py",
   "mimetype": "text/x-python",
   "name": "python",
   "nbconvert_exporter": "python",
   "pygments_lexer": "ipython3",
   "version": "3.7.6"
  }
 },
 "nbformat": 4,
 "nbformat_minor": 2
}
