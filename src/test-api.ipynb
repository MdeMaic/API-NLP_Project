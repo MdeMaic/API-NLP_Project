{
 "cells": [
  {
   "cell_type": "code",
   "execution_count": 1,
   "metadata": {
    "scrolled": true
   },
   "outputs": [],
   "source": [
    "import requests\n"
   ]
  },
  {
   "cell_type": "code",
   "execution_count": 2,
   "metadata": {},
   "outputs": [
    {
     "data": {
      "text/plain": [
       "{'hola': 'pepe'}"
      ]
     },
     "execution_count": 2,
     "metadata": {},
     "output_type": "execute_result"
    }
   ],
   "source": [
    "requests.get(\"http://localhost:5000/hola\").json()"
   ]
  },
  {
   "cell_type": "code",
   "execution_count": 3,
   "metadata": {},
   "outputs": [
    {
     "data": {
      "text/plain": [
       "{'nombre': 'Clara'}"
      ]
     },
     "execution_count": 3,
     "metadata": {},
     "output_type": "execute_result"
    }
   ],
   "source": [
    "requests.get(\"http://localhost:5000/ta/Clara\").json()"
   ]
  },
  {
   "cell_type": "code",
   "execution_count": 4,
   "metadata": {},
   "outputs": [
    {
     "data": {
      "text/plain": [
       "{'edad': 30, 'nombre': 'Luis'}"
      ]
     },
     "execution_count": 4,
     "metadata": {},
     "output_type": "execute_result"
    }
   ],
   "source": [
    "requests.get(\"http://localhost:5000/\").json()"
   ]
  },
  {
   "cell_type": "code",
   "execution_count": 5,
   "metadata": {},
   "outputs": [
    {
     "data": {
      "text/plain": [
       "{'hola': 'pepe'}"
      ]
     },
     "execution_count": 5,
     "metadata": {},
     "output_type": "execute_result"
    }
   ],
   "source": [
    "requests.get(\"http://localhost:5000/hola\").json()"
   ]
  },
  {
   "cell_type": "code",
   "execution_count": 6,
   "metadata": {},
   "outputs": [
    {
     "data": {
      "text/plain": [
       "'Facebook'"
      ]
     },
     "execution_count": 6,
     "metadata": {},
     "output_type": "execute_result"
    }
   ],
   "source": [
    "a = requests.get(\"http://localhost:5000/company/face\").json()\n",
    "a[\"name\"]"
   ]
  },
  {
   "cell_type": "code",
   "execution_count": 338,
   "metadata": {},
   "outputs": [],
   "source": [
    "df = pd.read_csv(\"../input/friends.csv\",  index_col=0)\n",
    "#df = df.rename(columns={\"Unnamed: 0.1\":\"total_order\"})"
   ]
  },
  {
   "cell_type": "code",
   "execution_count": 339,
   "metadata": {},
   "outputs": [
    {
     "data": {
      "text/html": [
       "<div>\n",
       "<style scoped>\n",
       "    .dataframe tbody tr th:only-of-type {\n",
       "        vertical-align: middle;\n",
       "    }\n",
       "\n",
       "    .dataframe tbody tr th {\n",
       "        vertical-align: top;\n",
       "    }\n",
       "\n",
       "    .dataframe thead th {\n",
       "        text-align: right;\n",
       "    }\n",
       "</style>\n",
       "<table border=\"1\" class=\"dataframe\">\n",
       "  <thead>\n",
       "    <tr style=\"text-align: right;\">\n",
       "      <th></th>\n",
       "      <th>msg_id</th>\n",
       "      <th>user_name</th>\n",
       "      <th>user_order</th>\n",
       "      <th>season</th>\n",
       "      <th>episode_number</th>\n",
       "      <th>episode_title</th>\n",
       "      <th>quote_order</th>\n",
       "      <th>quote</th>\n",
       "    </tr>\n",
       "  </thead>\n",
       "  <tbody>\n",
       "    <tr>\n",
       "      <th>0</th>\n",
       "      <td>0</td>\n",
       "      <td>Monica</td>\n",
       "      <td>0</td>\n",
       "      <td>1</td>\n",
       "      <td>1</td>\n",
       "      <td>Monica Gets A Roommate</td>\n",
       "      <td>0</td>\n",
       "      <td>There's nothing to tell! He's just some guy I ...</td>\n",
       "    </tr>\n",
       "    <tr>\n",
       "      <th>1</th>\n",
       "      <td>1</td>\n",
       "      <td>Joey</td>\n",
       "      <td>0</td>\n",
       "      <td>1</td>\n",
       "      <td>1</td>\n",
       "      <td>Monica Gets A Roommate</td>\n",
       "      <td>1</td>\n",
       "      <td>C'mon, you're going out with the guy! There's ...</td>\n",
       "    </tr>\n",
       "    <tr>\n",
       "      <th>2</th>\n",
       "      <td>2</td>\n",
       "      <td>Chandler</td>\n",
       "      <td>0</td>\n",
       "      <td>1</td>\n",
       "      <td>1</td>\n",
       "      <td>Monica Gets A Roommate</td>\n",
       "      <td>2</td>\n",
       "      <td>All right Joey, be nice.  So does he have a hu...</td>\n",
       "    </tr>\n",
       "    <tr>\n",
       "      <th>3</th>\n",
       "      <td>3</td>\n",
       "      <td>Phoebe</td>\n",
       "      <td>0</td>\n",
       "      <td>1</td>\n",
       "      <td>1</td>\n",
       "      <td>Monica Gets A Roommate</td>\n",
       "      <td>3</td>\n",
       "      <td>Wait, does he eat chalk?</td>\n",
       "    </tr>\n",
       "    <tr>\n",
       "      <th>4</th>\n",
       "      <td>4</td>\n",
       "      <td>Phoebe</td>\n",
       "      <td>1</td>\n",
       "      <td>1</td>\n",
       "      <td>1</td>\n",
       "      <td>Monica Gets A Roommate</td>\n",
       "      <td>4</td>\n",
       "      <td>Just, 'cause, I don't want her to go through w...</td>\n",
       "    </tr>\n",
       "  </tbody>\n",
       "</table>\n",
       "</div>"
      ],
      "text/plain": [
       "   msg_id user_name  user_order  season  episode_number  \\\n",
       "0       0    Monica           0       1               1   \n",
       "1       1      Joey           0       1               1   \n",
       "2       2  Chandler           0       1               1   \n",
       "3       3    Phoebe           0       1               1   \n",
       "4       4    Phoebe           1       1               1   \n",
       "\n",
       "            episode_title  quote_order  \\\n",
       "0  Monica Gets A Roommate            0   \n",
       "1  Monica Gets A Roommate            1   \n",
       "2  Monica Gets A Roommate            2   \n",
       "3  Monica Gets A Roommate            3   \n",
       "4  Monica Gets A Roommate            4   \n",
       "\n",
       "                                               quote  \n",
       "0  There's nothing to tell! He's just some guy I ...  \n",
       "1  C'mon, you're going out with the guy! There's ...  \n",
       "2  All right Joey, be nice.  So does he have a hu...  \n",
       "3                           Wait, does he eat chalk?  \n",
       "4  Just, 'cause, I don't want her to go through w...  "
      ]
     },
     "execution_count": 339,
     "metadata": {},
     "output_type": "execute_result"
    }
   ],
   "source": [
    "df.head()"
   ]
  },
  {
   "cell_type": "code",
   "execution_count": 340,
   "metadata": {},
   "outputs": [
    {
     "data": {
      "text/plain": [
       "4058"
      ]
     },
     "execution_count": 340,
     "metadata": {},
     "output_type": "execute_result"
    }
   ],
   "source": [
    "df.quote.value_counts().head(50).sum()"
   ]
  },
  {
   "cell_type": "code",
   "execution_count": 343,
   "metadata": {},
   "outputs": [
    {
     "data": {
      "text/html": [
       "<div>\n",
       "<style scoped>\n",
       "    .dataframe tbody tr th:only-of-type {\n",
       "        vertical-align: middle;\n",
       "    }\n",
       "\n",
       "    .dataframe tbody tr th {\n",
       "        vertical-align: top;\n",
       "    }\n",
       "\n",
       "    .dataframe thead th {\n",
       "        text-align: right;\n",
       "    }\n",
       "</style>\n",
       "<table border=\"1\" class=\"dataframe\">\n",
       "  <thead>\n",
       "    <tr style=\"text-align: right;\">\n",
       "      <th></th>\n",
       "      <th>msg_id</th>\n",
       "      <th>user_name</th>\n",
       "      <th>user_order</th>\n",
       "      <th>season</th>\n",
       "      <th>episode_number</th>\n",
       "      <th>episode_title</th>\n",
       "      <th>quote_order</th>\n",
       "      <th>quote</th>\n",
       "    </tr>\n",
       "  </thead>\n",
       "  <tbody>\n",
       "    <tr>\n",
       "      <th>0</th>\n",
       "      <td>0</td>\n",
       "      <td>Monica</td>\n",
       "      <td>0</td>\n",
       "      <td>1</td>\n",
       "      <td>1</td>\n",
       "      <td>Monica Gets A Roommate</td>\n",
       "      <td>0</td>\n",
       "      <td>There's nothing to tell! He's just some guy I ...</td>\n",
       "    </tr>\n",
       "    <tr>\n",
       "      <th>1</th>\n",
       "      <td>1</td>\n",
       "      <td>Joey</td>\n",
       "      <td>0</td>\n",
       "      <td>1</td>\n",
       "      <td>1</td>\n",
       "      <td>Monica Gets A Roommate</td>\n",
       "      <td>1</td>\n",
       "      <td>C'mon, you're going out with the guy! There's ...</td>\n",
       "    </tr>\n",
       "    <tr>\n",
       "      <th>2</th>\n",
       "      <td>2</td>\n",
       "      <td>Chandler</td>\n",
       "      <td>0</td>\n",
       "      <td>1</td>\n",
       "      <td>1</td>\n",
       "      <td>Monica Gets A Roommate</td>\n",
       "      <td>2</td>\n",
       "      <td>All right Joey, be nice.  So does he have a hu...</td>\n",
       "    </tr>\n",
       "    <tr>\n",
       "      <th>3</th>\n",
       "      <td>3</td>\n",
       "      <td>Phoebe</td>\n",
       "      <td>0</td>\n",
       "      <td>1</td>\n",
       "      <td>1</td>\n",
       "      <td>Monica Gets A Roommate</td>\n",
       "      <td>3</td>\n",
       "      <td>Wait, does he eat chalk?</td>\n",
       "    </tr>\n",
       "    <tr>\n",
       "      <th>4</th>\n",
       "      <td>4</td>\n",
       "      <td>Phoebe</td>\n",
       "      <td>1</td>\n",
       "      <td>1</td>\n",
       "      <td>1</td>\n",
       "      <td>Monica Gets A Roommate</td>\n",
       "      <td>4</td>\n",
       "      <td>Just, 'cause, I don't want her to go through w...</td>\n",
       "    </tr>\n",
       "    <tr>\n",
       "      <th>...</th>\n",
       "      <td>...</td>\n",
       "      <td>...</td>\n",
       "      <td>...</td>\n",
       "      <td>...</td>\n",
       "      <td>...</td>\n",
       "      <td>...</td>\n",
       "      <td>...</td>\n",
       "      <td>...</td>\n",
       "    </tr>\n",
       "    <tr>\n",
       "      <th>6026</th>\n",
       "      <td>6026</td>\n",
       "      <td>Ross</td>\n",
       "      <td>914</td>\n",
       "      <td>1</td>\n",
       "      <td>24</td>\n",
       "      <td>Rachel Finds Out</td>\n",
       "      <td>250</td>\n",
       "      <td>Oh, hey, hey, I got that.</td>\n",
       "    </tr>\n",
       "    <tr>\n",
       "      <th>6028</th>\n",
       "      <td>6028</td>\n",
       "      <td>Ross</td>\n",
       "      <td>915</td>\n",
       "      <td>1</td>\n",
       "      <td>24</td>\n",
       "      <td>Rachel Finds Out</td>\n",
       "      <td>252</td>\n",
       "      <td>No problem. I cannot wait for you to meet my f...</td>\n",
       "    </tr>\n",
       "    <tr>\n",
       "      <th>6030</th>\n",
       "      <td>6030</td>\n",
       "      <td>Ross</td>\n",
       "      <td>916</td>\n",
       "      <td>1</td>\n",
       "      <td>24</td>\n",
       "      <td>Rachel Finds Out</td>\n",
       "      <td>254</td>\n",
       "      <td>Yeah.</td>\n",
       "    </tr>\n",
       "    <tr>\n",
       "      <th>6032</th>\n",
       "      <td>6032</td>\n",
       "      <td>Ross</td>\n",
       "      <td>917</td>\n",
       "      <td>1</td>\n",
       "      <td>24</td>\n",
       "      <td>Rachel Finds Out</td>\n",
       "      <td>256</td>\n",
       "      <td>No, no, they will. I just... uh...</td>\n",
       "    </tr>\n",
       "    <tr>\n",
       "      <th>6034</th>\n",
       "      <td>6034</td>\n",
       "      <td>Ross</td>\n",
       "      <td>918</td>\n",
       "      <td>1</td>\n",
       "      <td>24</td>\n",
       "      <td>Rachel Finds Out</td>\n",
       "      <td>258</td>\n",
       "      <td>Come on, they're gonna love you.</td>\n",
       "    </tr>\n",
       "  </tbody>\n",
       "</table>\n",
       "<p>4689 rows × 8 columns</p>\n",
       "</div>"
      ],
      "text/plain": [
       "      msg_id user_name  user_order  season  episode_number  \\\n",
       "0          0    Monica           0       1               1   \n",
       "1          1      Joey           0       1               1   \n",
       "2          2  Chandler           0       1               1   \n",
       "3          3    Phoebe           0       1               1   \n",
       "4          4    Phoebe           1       1               1   \n",
       "...      ...       ...         ...     ...             ...   \n",
       "6026    6026      Ross         914       1              24   \n",
       "6028    6028      Ross         915       1              24   \n",
       "6030    6030      Ross         916       1              24   \n",
       "6032    6032      Ross         917       1              24   \n",
       "6034    6034      Ross         918       1              24   \n",
       "\n",
       "               episode_title  quote_order  \\\n",
       "0     Monica Gets A Roommate            0   \n",
       "1     Monica Gets A Roommate            1   \n",
       "2     Monica Gets A Roommate            2   \n",
       "3     Monica Gets A Roommate            3   \n",
       "4     Monica Gets A Roommate            4   \n",
       "...                      ...          ...   \n",
       "6026        Rachel Finds Out          250   \n",
       "6028        Rachel Finds Out          252   \n",
       "6030        Rachel Finds Out          254   \n",
       "6032        Rachel Finds Out          256   \n",
       "6034        Rachel Finds Out          258   \n",
       "\n",
       "                                                  quote  \n",
       "0     There's nothing to tell! He's just some guy I ...  \n",
       "1     C'mon, you're going out with the guy! There's ...  \n",
       "2     All right Joey, be nice.  So does he have a hu...  \n",
       "3                              Wait, does he eat chalk?  \n",
       "4     Just, 'cause, I don't want her to go through w...  \n",
       "...                                                 ...  \n",
       "6026                          Oh, hey, hey, I got that.  \n",
       "6028  No problem. I cannot wait for you to meet my f...  \n",
       "6030                                              Yeah.  \n",
       "6032                 No, no, they will. I just... uh...  \n",
       "6034                   Come on, they're gonna love you.  \n",
       "\n",
       "[4689 rows x 8 columns]"
      ]
     },
     "execution_count": 343,
     "metadata": {},
     "output_type": "execute_result"
    }
   ],
   "source": [
    "dfs1 = df[df.season ==1]\n",
    "dfs1e1 = dfs1[dfs1.episode_number == 1]\n",
    "dfs1"
   ]
  },
  {
   "cell_type": "code",
   "execution_count": 342,
   "metadata": {},
   "outputs": [],
   "source": [
    "dfs1.to_csv('../input/friends_s1.csv')\n",
    "dfs1e1.to_csv('../input/friends_s1_e1.csv')"
   ]
  },
  {
   "cell_type": "code",
   "execution_count": 337,
   "metadata": {},
   "outputs": [
    {
     "data": {
      "text/plain": [
       "Ross        919\n",
       "Monica      854\n",
       "Rachel      850\n",
       "Chandler    816\n",
       "Phoebe      637\n",
       "Joey        613\n",
       "Name: author, dtype: int64"
      ]
     },
     "execution_count": 337,
     "metadata": {},
     "output_type": "execute_result"
    }
   ],
   "source": [
    "dfs1.author.value_counts()"
   ]
  },
  {
   "cell_type": "code",
   "execution_count": 172,
   "metadata": {},
   "outputs": [
    {
     "data": {
      "text/plain": [
       "'todo ok!'"
      ]
     },
     "execution_count": 172,
     "metadata": {},
     "output_type": "execute_result"
    }
   ],
   "source": [
    "requests.get(\"http://localhost:5000/user/Harry\").text"
   ]
  },
  {
   "cell_type": "code",
   "execution_count": 173,
   "metadata": {},
   "outputs": [],
   "source": [
    "from pymongo import MongoClient\n",
    "import re\n",
    "from pandas.io.json import json_normalize\n",
    "import pandas as pd"
   ]
  },
  {
   "cell_type": "code",
   "execution_count": 206,
   "metadata": {},
   "outputs": [],
   "source": [
    "client = MongoClient('mongodb://localhost/friends')"
   ]
  },
  {
   "cell_type": "code",
   "execution_count": 204,
   "metadata": {},
   "outputs": [
    {
     "data": {
      "text/plain": [
       "'todo ok!'"
      ]
     },
     "execution_count": 204,
     "metadata": {},
     "output_type": "execute_result"
    }
   ],
   "source": [
    "requests.get(\"http://localhost:5000/user/Harry\").text"
   ]
  },
  {
   "cell_type": "code",
   "execution_count": 228,
   "metadata": {},
   "outputs": [
    {
     "name": "stdout",
     "output_type": "stream",
     "text": [
      "OK\n",
      "[]\n",
      "[]\n",
      "2\n"
     ]
    }
   ],
   "source": [
    "users = client.get_default_database()['users']\n",
    "name = \"pepe\"\n",
    "q= {'name':{'$exists': True}}\n",
    "query = users.find(q,projection={'name':1,'_id':0})\n",
    "findname = [name for i in query for name in i.values()]\n",
    "\n",
    "if name in findname:\n",
    "    print(f\"{name} ya existe en la base de datos.\")\n",
    "else:\n",
    "    print(\"OK\")\n",
    "if not query:\n",
    "    raise ValueError(\"Can't insert user\")\n",
    "\n",
    "print(list(query))\n",
    "print(findname)\n",
    "print(result)"
   ]
  },
  {
   "cell_type": "code",
   "execution_count": 278,
   "metadata": {},
   "outputs": [
    {
     "data": {
      "text/plain": [
       "'amanda ya existe en la base de datos.'"
      ]
     },
     "execution_count": 278,
     "metadata": {},
     "output_type": "execute_result"
    }
   ],
   "source": [
    "requests.get(\"http://localhost:5000/insert/user/amanda\").text"
   ]
  },
  {
   "cell_type": "code",
   "execution_count": 283,
   "metadata": {},
   "outputs": [
    {
     "name": "stdout",
     "output_type": "stream",
     "text": [
      "[{'user_id': 1}, {'user_id': 2}]\n",
      "[]\n",
      "0\n"
     ]
    }
   ],
   "source": [
    "users = client.get_default_database()['users']\n",
    "\n",
    "q= {'user_id':{'$exists': True}}\n",
    "query = users.find(q,projection={'user_id':1,'_id':0})\n",
    "print(list(query))\n",
    "findmax = [n for i in query for n in i.values()]\n",
    "print(findmax)\n",
    "if findmax ==[]:\n",
    "    print (0)\n",
    "else:\n",
    "    res = max(findmax)\n",
    "    print(res)"
   ]
  },
  {
   "cell_type": "code",
   "execution_count": 297,
   "metadata": {},
   "outputs": [
    {
     "data": {
      "text/plain": [
       "\"hector NO existe en la base de datos. Utiliza 'insert/user/<user_name>' para crearlo\""
      ]
     },
     "execution_count": 297,
     "metadata": {},
     "output_type": "execute_result"
    }
   ],
   "source": [
    "requests.get(\"http://localhost:5000/insert/conversation/hector\").text"
   ]
  },
  {
   "cell_type": "code",
   "execution_count": 298,
   "metadata": {},
   "outputs": [
    {
     "data": {
      "text/plain": [
       "'todo ok!'"
      ]
     },
     "execution_count": 298,
     "metadata": {},
     "output_type": "execute_result"
    }
   ],
   "source": [
    "requests.get(\"http://localhost:5000/insert/user/hector\").text"
   ]
  },
  {
   "cell_type": "code",
   "execution_count": 299,
   "metadata": {},
   "outputs": [
    {
     "data": {
      "text/plain": [
       "'todo ok!'"
      ]
     },
     "execution_count": 299,
     "metadata": {},
     "output_type": "execute_result"
    }
   ],
   "source": [
    "requests.get(\"http://localhost:5000/insert/conversation/hector\").text"
   ]
  },
  {
   "cell_type": "code",
   "execution_count": 307,
   "metadata": {},
   "outputs": [
    {
     "data": {
      "text/plain": [
       "'anai ya existe en la base de datos. Por favor elige otro nombre.'"
      ]
     },
     "execution_count": 307,
     "metadata": {},
     "output_type": "execute_result"
    }
   ],
   "source": [
    "requests.get(\"http://localhost:5000/insert/user/anai\").text"
   ]
  },
  {
   "cell_type": "code",
   "execution_count": 344,
   "metadata": {},
   "outputs": [
    {
     "data": {
      "text/html": [
       "<div>\n",
       "<style scoped>\n",
       "    .dataframe tbody tr th:only-of-type {\n",
       "        vertical-align: middle;\n",
       "    }\n",
       "\n",
       "    .dataframe tbody tr th {\n",
       "        vertical-align: top;\n",
       "    }\n",
       "\n",
       "    .dataframe thead th {\n",
       "        text-align: right;\n",
       "    }\n",
       "</style>\n",
       "<table border=\"1\" class=\"dataframe\">\n",
       "  <thead>\n",
       "    <tr style=\"text-align: right;\">\n",
       "      <th></th>\n",
       "      <th>msg_id</th>\n",
       "      <th>user_name</th>\n",
       "      <th>user_order</th>\n",
       "      <th>season</th>\n",
       "      <th>episode_number</th>\n",
       "      <th>episode_title</th>\n",
       "      <th>quote_order</th>\n",
       "      <th>quote</th>\n",
       "    </tr>\n",
       "  </thead>\n",
       "  <tbody>\n",
       "    <tr>\n",
       "      <th>0</th>\n",
       "      <td>0</td>\n",
       "      <td>Monica</td>\n",
       "      <td>0</td>\n",
       "      <td>1</td>\n",
       "      <td>1</td>\n",
       "      <td>Monica Gets A Roommate</td>\n",
       "      <td>0</td>\n",
       "      <td>There's nothing to tell! He's just some guy I ...</td>\n",
       "    </tr>\n",
       "    <tr>\n",
       "      <th>1</th>\n",
       "      <td>1</td>\n",
       "      <td>Joey</td>\n",
       "      <td>0</td>\n",
       "      <td>1</td>\n",
       "      <td>1</td>\n",
       "      <td>Monica Gets A Roommate</td>\n",
       "      <td>1</td>\n",
       "      <td>C'mon, you're going out with the guy! There's ...</td>\n",
       "    </tr>\n",
       "    <tr>\n",
       "      <th>2</th>\n",
       "      <td>2</td>\n",
       "      <td>Chandler</td>\n",
       "      <td>0</td>\n",
       "      <td>1</td>\n",
       "      <td>1</td>\n",
       "      <td>Monica Gets A Roommate</td>\n",
       "      <td>2</td>\n",
       "      <td>All right Joey, be nice.  So does he have a hu...</td>\n",
       "    </tr>\n",
       "    <tr>\n",
       "      <th>3</th>\n",
       "      <td>3</td>\n",
       "      <td>Phoebe</td>\n",
       "      <td>0</td>\n",
       "      <td>1</td>\n",
       "      <td>1</td>\n",
       "      <td>Monica Gets A Roommate</td>\n",
       "      <td>3</td>\n",
       "      <td>Wait, does he eat chalk?</td>\n",
       "    </tr>\n",
       "    <tr>\n",
       "      <th>4</th>\n",
       "      <td>4</td>\n",
       "      <td>Phoebe</td>\n",
       "      <td>1</td>\n",
       "      <td>1</td>\n",
       "      <td>1</td>\n",
       "      <td>Monica Gets A Roommate</td>\n",
       "      <td>4</td>\n",
       "      <td>Just, 'cause, I don't want her to go through w...</td>\n",
       "    </tr>\n",
       "    <tr>\n",
       "      <th>...</th>\n",
       "      <td>...</td>\n",
       "      <td>...</td>\n",
       "      <td>...</td>\n",
       "      <td>...</td>\n",
       "      <td>...</td>\n",
       "      <td>...</td>\n",
       "      <td>...</td>\n",
       "      <td>...</td>\n",
       "    </tr>\n",
       "    <tr>\n",
       "      <th>6026</th>\n",
       "      <td>6026</td>\n",
       "      <td>Ross</td>\n",
       "      <td>914</td>\n",
       "      <td>1</td>\n",
       "      <td>24</td>\n",
       "      <td>Rachel Finds Out</td>\n",
       "      <td>250</td>\n",
       "      <td>Oh, hey, hey, I got that.</td>\n",
       "    </tr>\n",
       "    <tr>\n",
       "      <th>6028</th>\n",
       "      <td>6028</td>\n",
       "      <td>Ross</td>\n",
       "      <td>915</td>\n",
       "      <td>1</td>\n",
       "      <td>24</td>\n",
       "      <td>Rachel Finds Out</td>\n",
       "      <td>252</td>\n",
       "      <td>No problem. I cannot wait for you to meet my f...</td>\n",
       "    </tr>\n",
       "    <tr>\n",
       "      <th>6030</th>\n",
       "      <td>6030</td>\n",
       "      <td>Ross</td>\n",
       "      <td>916</td>\n",
       "      <td>1</td>\n",
       "      <td>24</td>\n",
       "      <td>Rachel Finds Out</td>\n",
       "      <td>254</td>\n",
       "      <td>Yeah.</td>\n",
       "    </tr>\n",
       "    <tr>\n",
       "      <th>6032</th>\n",
       "      <td>6032</td>\n",
       "      <td>Ross</td>\n",
       "      <td>917</td>\n",
       "      <td>1</td>\n",
       "      <td>24</td>\n",
       "      <td>Rachel Finds Out</td>\n",
       "      <td>256</td>\n",
       "      <td>No, no, they will. I just... uh...</td>\n",
       "    </tr>\n",
       "    <tr>\n",
       "      <th>6034</th>\n",
       "      <td>6034</td>\n",
       "      <td>Ross</td>\n",
       "      <td>918</td>\n",
       "      <td>1</td>\n",
       "      <td>24</td>\n",
       "      <td>Rachel Finds Out</td>\n",
       "      <td>258</td>\n",
       "      <td>Come on, they're gonna love you.</td>\n",
       "    </tr>\n",
       "  </tbody>\n",
       "</table>\n",
       "<p>4689 rows × 8 columns</p>\n",
       "</div>"
      ],
      "text/plain": [
       "      msg_id user_name  user_order  season  episode_number  \\\n",
       "0          0    Monica           0       1               1   \n",
       "1          1      Joey           0       1               1   \n",
       "2          2  Chandler           0       1               1   \n",
       "3          3    Phoebe           0       1               1   \n",
       "4          4    Phoebe           1       1               1   \n",
       "...      ...       ...         ...     ...             ...   \n",
       "6026    6026      Ross         914       1              24   \n",
       "6028    6028      Ross         915       1              24   \n",
       "6030    6030      Ross         916       1              24   \n",
       "6032    6032      Ross         917       1              24   \n",
       "6034    6034      Ross         918       1              24   \n",
       "\n",
       "               episode_title  quote_order  \\\n",
       "0     Monica Gets A Roommate            0   \n",
       "1     Monica Gets A Roommate            1   \n",
       "2     Monica Gets A Roommate            2   \n",
       "3     Monica Gets A Roommate            3   \n",
       "4     Monica Gets A Roommate            4   \n",
       "...                      ...          ...   \n",
       "6026        Rachel Finds Out          250   \n",
       "6028        Rachel Finds Out          252   \n",
       "6030        Rachel Finds Out          254   \n",
       "6032        Rachel Finds Out          256   \n",
       "6034        Rachel Finds Out          258   \n",
       "\n",
       "                                                  quote  \n",
       "0     There's nothing to tell! He's just some guy I ...  \n",
       "1     C'mon, you're going out with the guy! There's ...  \n",
       "2     All right Joey, be nice.  So does he have a hu...  \n",
       "3                              Wait, does he eat chalk?  \n",
       "4     Just, 'cause, I don't want her to go through w...  \n",
       "...                                                 ...  \n",
       "6026                          Oh, hey, hey, I got that.  \n",
       "6028  No problem. I cannot wait for you to meet my f...  \n",
       "6030                                              Yeah.  \n",
       "6032                 No, no, they will. I just... uh...  \n",
       "6034                   Come on, they're gonna love you.  \n",
       "\n",
       "[4689 rows x 8 columns]"
      ]
     },
     "execution_count": 344,
     "metadata": {},
     "output_type": "execute_result"
    }
   ],
   "source": [
    "dfs1"
   ]
  },
  {
   "cell_type": "code",
   "execution_count": 345,
   "metadata": {},
   "outputs": [],
   "source": [
    "df = pd.read_csv(\"../input/friends_s1.csv\", index_col=0)"
   ]
  },
  {
   "cell_type": "code",
   "execution_count": 346,
   "metadata": {},
   "outputs": [
    {
     "data": {
      "text/html": [
       "<div>\n",
       "<style scoped>\n",
       "    .dataframe tbody tr th:only-of-type {\n",
       "        vertical-align: middle;\n",
       "    }\n",
       "\n",
       "    .dataframe tbody tr th {\n",
       "        vertical-align: top;\n",
       "    }\n",
       "\n",
       "    .dataframe thead th {\n",
       "        text-align: right;\n",
       "    }\n",
       "</style>\n",
       "<table border=\"1\" class=\"dataframe\">\n",
       "  <thead>\n",
       "    <tr style=\"text-align: right;\">\n",
       "      <th></th>\n",
       "      <th>msg_id</th>\n",
       "      <th>user_name</th>\n",
       "      <th>user_order</th>\n",
       "      <th>season</th>\n",
       "      <th>episode_number</th>\n",
       "      <th>episode_title</th>\n",
       "      <th>quote_order</th>\n",
       "      <th>quote</th>\n",
       "    </tr>\n",
       "  </thead>\n",
       "  <tbody>\n",
       "    <tr>\n",
       "      <th>0</th>\n",
       "      <td>0</td>\n",
       "      <td>Monica</td>\n",
       "      <td>0</td>\n",
       "      <td>1</td>\n",
       "      <td>1</td>\n",
       "      <td>Monica Gets A Roommate</td>\n",
       "      <td>0</td>\n",
       "      <td>There's nothing to tell! He's just some guy I ...</td>\n",
       "    </tr>\n",
       "    <tr>\n",
       "      <th>1</th>\n",
       "      <td>1</td>\n",
       "      <td>Joey</td>\n",
       "      <td>0</td>\n",
       "      <td>1</td>\n",
       "      <td>1</td>\n",
       "      <td>Monica Gets A Roommate</td>\n",
       "      <td>1</td>\n",
       "      <td>C'mon, you're going out with the guy! There's ...</td>\n",
       "    </tr>\n",
       "    <tr>\n",
       "      <th>2</th>\n",
       "      <td>2</td>\n",
       "      <td>Chandler</td>\n",
       "      <td>0</td>\n",
       "      <td>1</td>\n",
       "      <td>1</td>\n",
       "      <td>Monica Gets A Roommate</td>\n",
       "      <td>2</td>\n",
       "      <td>All right Joey, be nice.  So does he have a hu...</td>\n",
       "    </tr>\n",
       "    <tr>\n",
       "      <th>3</th>\n",
       "      <td>3</td>\n",
       "      <td>Phoebe</td>\n",
       "      <td>0</td>\n",
       "      <td>1</td>\n",
       "      <td>1</td>\n",
       "      <td>Monica Gets A Roommate</td>\n",
       "      <td>3</td>\n",
       "      <td>Wait, does he eat chalk?</td>\n",
       "    </tr>\n",
       "    <tr>\n",
       "      <th>4</th>\n",
       "      <td>4</td>\n",
       "      <td>Phoebe</td>\n",
       "      <td>1</td>\n",
       "      <td>1</td>\n",
       "      <td>1</td>\n",
       "      <td>Monica Gets A Roommate</td>\n",
       "      <td>4</td>\n",
       "      <td>Just, 'cause, I don't want her to go through w...</td>\n",
       "    </tr>\n",
       "    <tr>\n",
       "      <th>...</th>\n",
       "      <td>...</td>\n",
       "      <td>...</td>\n",
       "      <td>...</td>\n",
       "      <td>...</td>\n",
       "      <td>...</td>\n",
       "      <td>...</td>\n",
       "      <td>...</td>\n",
       "      <td>...</td>\n",
       "    </tr>\n",
       "    <tr>\n",
       "      <th>6026</th>\n",
       "      <td>6026</td>\n",
       "      <td>Ross</td>\n",
       "      <td>914</td>\n",
       "      <td>1</td>\n",
       "      <td>24</td>\n",
       "      <td>Rachel Finds Out</td>\n",
       "      <td>250</td>\n",
       "      <td>Oh, hey, hey, I got that.</td>\n",
       "    </tr>\n",
       "    <tr>\n",
       "      <th>6028</th>\n",
       "      <td>6028</td>\n",
       "      <td>Ross</td>\n",
       "      <td>915</td>\n",
       "      <td>1</td>\n",
       "      <td>24</td>\n",
       "      <td>Rachel Finds Out</td>\n",
       "      <td>252</td>\n",
       "      <td>No problem. I cannot wait for you to meet my f...</td>\n",
       "    </tr>\n",
       "    <tr>\n",
       "      <th>6030</th>\n",
       "      <td>6030</td>\n",
       "      <td>Ross</td>\n",
       "      <td>916</td>\n",
       "      <td>1</td>\n",
       "      <td>24</td>\n",
       "      <td>Rachel Finds Out</td>\n",
       "      <td>254</td>\n",
       "      <td>Yeah.</td>\n",
       "    </tr>\n",
       "    <tr>\n",
       "      <th>6032</th>\n",
       "      <td>6032</td>\n",
       "      <td>Ross</td>\n",
       "      <td>917</td>\n",
       "      <td>1</td>\n",
       "      <td>24</td>\n",
       "      <td>Rachel Finds Out</td>\n",
       "      <td>256</td>\n",
       "      <td>No, no, they will. I just... uh...</td>\n",
       "    </tr>\n",
       "    <tr>\n",
       "      <th>6034</th>\n",
       "      <td>6034</td>\n",
       "      <td>Ross</td>\n",
       "      <td>918</td>\n",
       "      <td>1</td>\n",
       "      <td>24</td>\n",
       "      <td>Rachel Finds Out</td>\n",
       "      <td>258</td>\n",
       "      <td>Come on, they're gonna love you.</td>\n",
       "    </tr>\n",
       "  </tbody>\n",
       "</table>\n",
       "<p>4689 rows × 8 columns</p>\n",
       "</div>"
      ],
      "text/plain": [
       "      msg_id user_name  user_order  season  episode_number  \\\n",
       "0          0    Monica           0       1               1   \n",
       "1          1      Joey           0       1               1   \n",
       "2          2  Chandler           0       1               1   \n",
       "3          3    Phoebe           0       1               1   \n",
       "4          4    Phoebe           1       1               1   \n",
       "...      ...       ...         ...     ...             ...   \n",
       "6026    6026      Ross         914       1              24   \n",
       "6028    6028      Ross         915       1              24   \n",
       "6030    6030      Ross         916       1              24   \n",
       "6032    6032      Ross         917       1              24   \n",
       "6034    6034      Ross         918       1              24   \n",
       "\n",
       "               episode_title  quote_order  \\\n",
       "0     Monica Gets A Roommate            0   \n",
       "1     Monica Gets A Roommate            1   \n",
       "2     Monica Gets A Roommate            2   \n",
       "3     Monica Gets A Roommate            3   \n",
       "4     Monica Gets A Roommate            4   \n",
       "...                      ...          ...   \n",
       "6026        Rachel Finds Out          250   \n",
       "6028        Rachel Finds Out          252   \n",
       "6030        Rachel Finds Out          254   \n",
       "6032        Rachel Finds Out          256   \n",
       "6034        Rachel Finds Out          258   \n",
       "\n",
       "                                                  quote  \n",
       "0     There's nothing to tell! He's just some guy I ...  \n",
       "1     C'mon, you're going out with the guy! There's ...  \n",
       "2     All right Joey, be nice.  So does he have a hu...  \n",
       "3                              Wait, does he eat chalk?  \n",
       "4     Just, 'cause, I don't want her to go through w...  \n",
       "...                                                 ...  \n",
       "6026                          Oh, hey, hey, I got that.  \n",
       "6028  No problem. I cannot wait for you to meet my f...  \n",
       "6030                                              Yeah.  \n",
       "6032                 No, no, they will. I just... uh...  \n",
       "6034                   Come on, they're gonna love you.  \n",
       "\n",
       "[4689 rows x 8 columns]"
      ]
     },
     "execution_count": 346,
     "metadata": {},
     "output_type": "execute_result"
    }
   ],
   "source": [
    "df"
   ]
  },
  {
   "cell_type": "code",
   "execution_count": 350,
   "metadata": {},
   "outputs": [
    {
     "data": {
      "text/plain": [
       "[1,\n",
       " 2,\n",
       " 3,\n",
       " 4,\n",
       " 5,\n",
       " 6,\n",
       " 7,\n",
       " 8,\n",
       " 9,\n",
       " 10,\n",
       " 11,\n",
       " 12,\n",
       " 13,\n",
       " 14,\n",
       " 15,\n",
       " 16,\n",
       " 17,\n",
       " 18,\n",
       " 19,\n",
       " 20,\n",
       " 21,\n",
       " 22,\n",
       " 23,\n",
       " 24]"
      ]
     },
     "execution_count": 350,
     "metadata": {},
     "output_type": "execute_result"
    }
   ],
   "source": [
    "episodes = list(set(df.episode_number))\n",
    "episodes"
   ]
  },
  {
   "cell_type": "code",
   "execution_count": 351,
   "metadata": {},
   "outputs": [
    {
     "data": {
      "text/plain": [
       "24"
      ]
     },
     "execution_count": 351,
     "metadata": {},
     "output_type": "execute_result"
    }
   ],
   "source": [
    "max_ep = max(episodes)\n",
    "max_ep"
   ]
  },
  {
   "cell_type": "code",
   "execution_count": 352,
   "metadata": {},
   "outputs": [],
   "source": [
    "numb = 1"
   ]
  },
  {
   "cell_type": "code",
   "execution_count": 354,
   "metadata": {},
   "outputs": [
    {
     "data": {
      "text/html": [
       "<div>\n",
       "<style scoped>\n",
       "    .dataframe tbody tr th:only-of-type {\n",
       "        vertical-align: middle;\n",
       "    }\n",
       "\n",
       "    .dataframe tbody tr th {\n",
       "        vertical-align: top;\n",
       "    }\n",
       "\n",
       "    .dataframe thead th {\n",
       "        text-align: right;\n",
       "    }\n",
       "</style>\n",
       "<table border=\"1\" class=\"dataframe\">\n",
       "  <thead>\n",
       "    <tr style=\"text-align: right;\">\n",
       "      <th></th>\n",
       "      <th>msg_id</th>\n",
       "      <th>user_name</th>\n",
       "      <th>user_order</th>\n",
       "      <th>season</th>\n",
       "      <th>episode_number</th>\n",
       "      <th>episode_title</th>\n",
       "      <th>quote_order</th>\n",
       "      <th>quote</th>\n",
       "    </tr>\n",
       "  </thead>\n",
       "  <tbody>\n",
       "    <tr>\n",
       "      <th>0</th>\n",
       "      <td>0</td>\n",
       "      <td>Monica</td>\n",
       "      <td>0</td>\n",
       "      <td>1</td>\n",
       "      <td>1</td>\n",
       "      <td>Monica Gets A Roommate</td>\n",
       "      <td>0</td>\n",
       "      <td>There's nothing to tell! He's just some guy I ...</td>\n",
       "    </tr>\n",
       "    <tr>\n",
       "      <th>1</th>\n",
       "      <td>1</td>\n",
       "      <td>Joey</td>\n",
       "      <td>0</td>\n",
       "      <td>1</td>\n",
       "      <td>1</td>\n",
       "      <td>Monica Gets A Roommate</td>\n",
       "      <td>1</td>\n",
       "      <td>C'mon, you're going out with the guy! There's ...</td>\n",
       "    </tr>\n",
       "    <tr>\n",
       "      <th>2</th>\n",
       "      <td>2</td>\n",
       "      <td>Chandler</td>\n",
       "      <td>0</td>\n",
       "      <td>1</td>\n",
       "      <td>1</td>\n",
       "      <td>Monica Gets A Roommate</td>\n",
       "      <td>2</td>\n",
       "      <td>All right Joey, be nice.  So does he have a hu...</td>\n",
       "    </tr>\n",
       "    <tr>\n",
       "      <th>3</th>\n",
       "      <td>3</td>\n",
       "      <td>Phoebe</td>\n",
       "      <td>0</td>\n",
       "      <td>1</td>\n",
       "      <td>1</td>\n",
       "      <td>Monica Gets A Roommate</td>\n",
       "      <td>3</td>\n",
       "      <td>Wait, does he eat chalk?</td>\n",
       "    </tr>\n",
       "    <tr>\n",
       "      <th>4</th>\n",
       "      <td>4</td>\n",
       "      <td>Phoebe</td>\n",
       "      <td>1</td>\n",
       "      <td>1</td>\n",
       "      <td>1</td>\n",
       "      <td>Monica Gets A Roommate</td>\n",
       "      <td>4</td>\n",
       "      <td>Just, 'cause, I don't want her to go through w...</td>\n",
       "    </tr>\n",
       "    <tr>\n",
       "      <th>...</th>\n",
       "      <td>...</td>\n",
       "      <td>...</td>\n",
       "      <td>...</td>\n",
       "      <td>...</td>\n",
       "      <td>...</td>\n",
       "      <td>...</td>\n",
       "      <td>...</td>\n",
       "      <td>...</td>\n",
       "    </tr>\n",
       "    <tr>\n",
       "      <th>296</th>\n",
       "      <td>296</td>\n",
       "      <td>Chandler</td>\n",
       "      <td>36</td>\n",
       "      <td>1</td>\n",
       "      <td>1</td>\n",
       "      <td>Monica Gets A Roommate</td>\n",
       "      <td>296</td>\n",
       "      <td>Did you make it, or are you just serving it?</td>\n",
       "    </tr>\n",
       "    <tr>\n",
       "      <th>297</th>\n",
       "      <td>297</td>\n",
       "      <td>Rachel</td>\n",
       "      <td>46</td>\n",
       "      <td>1</td>\n",
       "      <td>1</td>\n",
       "      <td>Monica Gets A Roommate</td>\n",
       "      <td>297</td>\n",
       "      <td>I'm just serving it.</td>\n",
       "    </tr>\n",
       "    <tr>\n",
       "      <th>299</th>\n",
       "      <td>299</td>\n",
       "      <td>Chandler</td>\n",
       "      <td>37</td>\n",
       "      <td>1</td>\n",
       "      <td>1</td>\n",
       "      <td>Monica Gets A Roommate</td>\n",
       "      <td>299</td>\n",
       "      <td>Kids, new dream... I'm in Las Vegas. (Rachel s...</td>\n",
       "    </tr>\n",
       "    <tr>\n",
       "      <th>301</th>\n",
       "      <td>301</td>\n",
       "      <td>Rachel</td>\n",
       "      <td>47</td>\n",
       "      <td>1</td>\n",
       "      <td>1</td>\n",
       "      <td>Monica Gets A Roommate</td>\n",
       "      <td>301</td>\n",
       "      <td>Ugh. (To another customer that's leaving.) Exc...</td>\n",
       "    </tr>\n",
       "    <tr>\n",
       "      <th>302</th>\n",
       "      <td>302</td>\n",
       "      <td>Chandler</td>\n",
       "      <td>38</td>\n",
       "      <td>1</td>\n",
       "      <td>1</td>\n",
       "      <td>Monica Gets A Roommate</td>\n",
       "      <td>302</td>\n",
       "      <td>Okay, so, I'm in Las Vegas... I'm Liza Minelli-</td>\n",
       "    </tr>\n",
       "  </tbody>\n",
       "</table>\n",
       "<p>265 rows × 8 columns</p>\n",
       "</div>"
      ],
      "text/plain": [
       "     msg_id user_name  user_order  season  episode_number  \\\n",
       "0         0    Monica           0       1               1   \n",
       "1         1      Joey           0       1               1   \n",
       "2         2  Chandler           0       1               1   \n",
       "3         3    Phoebe           0       1               1   \n",
       "4         4    Phoebe           1       1               1   \n",
       "..      ...       ...         ...     ...             ...   \n",
       "296     296  Chandler          36       1               1   \n",
       "297     297    Rachel          46       1               1   \n",
       "299     299  Chandler          37       1               1   \n",
       "301     301    Rachel          47       1               1   \n",
       "302     302  Chandler          38       1               1   \n",
       "\n",
       "              episode_title  quote_order  \\\n",
       "0    Monica Gets A Roommate            0   \n",
       "1    Monica Gets A Roommate            1   \n",
       "2    Monica Gets A Roommate            2   \n",
       "3    Monica Gets A Roommate            3   \n",
       "4    Monica Gets A Roommate            4   \n",
       "..                      ...          ...   \n",
       "296  Monica Gets A Roommate          296   \n",
       "297  Monica Gets A Roommate          297   \n",
       "299  Monica Gets A Roommate          299   \n",
       "301  Monica Gets A Roommate          301   \n",
       "302  Monica Gets A Roommate          302   \n",
       "\n",
       "                                                 quote  \n",
       "0    There's nothing to tell! He's just some guy I ...  \n",
       "1    C'mon, you're going out with the guy! There's ...  \n",
       "2    All right Joey, be nice.  So does he have a hu...  \n",
       "3                             Wait, does he eat chalk?  \n",
       "4    Just, 'cause, I don't want her to go through w...  \n",
       "..                                                 ...  \n",
       "296       Did you make it, or are you just serving it?  \n",
       "297                               I'm just serving it.  \n",
       "299  Kids, new dream... I'm in Las Vegas. (Rachel s...  \n",
       "301  Ugh. (To another customer that's leaving.) Exc...  \n",
       "302    Okay, so, I'm in Las Vegas... I'm Liza Minelli-  \n",
       "\n",
       "[265 rows x 8 columns]"
      ]
     },
     "execution_count": 354,
     "metadata": {},
     "output_type": "execute_result"
    }
   ],
   "source": [
    "df = df[df.episode_number == numb]\n",
    "df"
   ]
  },
  {
   "cell_type": "code",
   "execution_count": 396,
   "metadata": {},
   "outputs": [],
   "source": [
    "hola_dict = df.to_dict(orient=\"records\")\n",
    "hola_json = df.to_json(orient=\"records\")"
   ]
  },
  {
   "cell_type": "code",
   "execution_count": 398,
   "metadata": {},
   "outputs": [
    {
     "data": {
      "text/plain": [
       "[{'msg_id': 0,\n",
       "  'user_name': 'Monica',\n",
       "  'user_order': 0,\n",
       "  'season': 1,\n",
       "  'episode_number': 1,\n",
       "  'episode_title': 'Monica Gets A Roommate',\n",
       "  'quote_order': 0,\n",
       "  'quote': \"There's nothing to tell! He's just some guy I work with!\"},\n",
       " {'msg_id': 1,\n",
       "  'user_name': 'Joey',\n",
       "  'user_order': 0,\n",
       "  'season': 1,\n",
       "  'episode_number': 1,\n",
       "  'episode_title': 'Monica Gets A Roommate',\n",
       "  'quote_order': 1,\n",
       "  'quote': \"C'mon, you're going out with the guy! There's gotta be something wrong with him!\"}]"
      ]
     },
     "execution_count": 398,
     "metadata": {},
     "output_type": "execute_result"
    }
   ],
   "source": [
    "hola_dict[:2]"
   ]
  },
  {
   "cell_type": "code",
   "execution_count": 390,
   "metadata": {},
   "outputs": [],
   "source": [
    "# Connect to the database\n",
    "client = MongoClient(\n",
    "    \"mongodb://localhost/friends\"\n",
    ")  # PARA CONECTAR A MONGODB ATLAS METER API KEY\n",
    "db = client.get_database()\n",
    "coll_users = db[\"users\"]\n",
    "coll_conver = db[\"conversations\"]"
   ]
  },
  {
   "cell_type": "code",
   "execution_count": 416,
   "metadata": {},
   "outputs": [
    {
     "ename": "BulkWriteError",
     "evalue": "batch op errors occurred",
     "output_type": "error",
     "traceback": [
      "\u001b[0;31m---------------------------------------------------------------------------\u001b[0m",
      "\u001b[0;31mBulkWriteError\u001b[0m                            Traceback (most recent call last)",
      "\u001b[0;32m<ipython-input-416-d99ef1922e4b>\u001b[0m in \u001b[0;36m<module>\u001b[0;34m\u001b[0m\n\u001b[0;32m----> 1\u001b[0;31m \u001b[0mcoll_conver\u001b[0m\u001b[0;34m.\u001b[0m\u001b[0minsert_many\u001b[0m\u001b[0;34m(\u001b[0m\u001b[0mhola_dict\u001b[0m\u001b[0;34m)\u001b[0m\u001b[0;34m\u001b[0m\u001b[0;34m\u001b[0m\u001b[0m\n\u001b[0m",
      "\u001b[0;32m/usr/local/lib/python3.7/site-packages/pymongo/collection.py\u001b[0m in \u001b[0;36minsert_many\u001b[0;34m(self, documents, ordered, bypass_document_validation, session)\u001b[0m\n\u001b[1;32m    756\u001b[0m         \u001b[0mblk\u001b[0m \u001b[0;34m=\u001b[0m \u001b[0m_Bulk\u001b[0m\u001b[0;34m(\u001b[0m\u001b[0mself\u001b[0m\u001b[0;34m,\u001b[0m \u001b[0mordered\u001b[0m\u001b[0;34m,\u001b[0m \u001b[0mbypass_document_validation\u001b[0m\u001b[0;34m)\u001b[0m\u001b[0;34m\u001b[0m\u001b[0;34m\u001b[0m\u001b[0m\n\u001b[1;32m    757\u001b[0m         \u001b[0mblk\u001b[0m\u001b[0;34m.\u001b[0m\u001b[0mops\u001b[0m \u001b[0;34m=\u001b[0m \u001b[0;34m[\u001b[0m\u001b[0mdoc\u001b[0m \u001b[0;32mfor\u001b[0m \u001b[0mdoc\u001b[0m \u001b[0;32min\u001b[0m \u001b[0mgen\u001b[0m\u001b[0;34m(\u001b[0m\u001b[0;34m)\u001b[0m\u001b[0;34m]\u001b[0m\u001b[0;34m\u001b[0m\u001b[0;34m\u001b[0m\u001b[0m\n\u001b[0;32m--> 758\u001b[0;31m         \u001b[0mblk\u001b[0m\u001b[0;34m.\u001b[0m\u001b[0mexecute\u001b[0m\u001b[0;34m(\u001b[0m\u001b[0mwrite_concern\u001b[0m\u001b[0;34m,\u001b[0m \u001b[0msession\u001b[0m\u001b[0;34m=\u001b[0m\u001b[0msession\u001b[0m\u001b[0;34m)\u001b[0m\u001b[0;34m\u001b[0m\u001b[0;34m\u001b[0m\u001b[0m\n\u001b[0m\u001b[1;32m    759\u001b[0m         \u001b[0;32mreturn\u001b[0m \u001b[0mInsertManyResult\u001b[0m\u001b[0;34m(\u001b[0m\u001b[0minserted_ids\u001b[0m\u001b[0;34m,\u001b[0m \u001b[0mwrite_concern\u001b[0m\u001b[0;34m.\u001b[0m\u001b[0macknowledged\u001b[0m\u001b[0;34m)\u001b[0m\u001b[0;34m\u001b[0m\u001b[0;34m\u001b[0m\u001b[0m\n\u001b[1;32m    760\u001b[0m \u001b[0;34m\u001b[0m\u001b[0m\n",
      "\u001b[0;32m/usr/local/lib/python3.7/site-packages/pymongo/bulk.py\u001b[0m in \u001b[0;36mexecute\u001b[0;34m(self, write_concern, session)\u001b[0m\n\u001b[1;32m    509\u001b[0m                 \u001b[0mself\u001b[0m\u001b[0;34m.\u001b[0m\u001b[0mexecute_no_results\u001b[0m\u001b[0;34m(\u001b[0m\u001b[0msock_info\u001b[0m\u001b[0;34m,\u001b[0m \u001b[0mgenerator\u001b[0m\u001b[0;34m)\u001b[0m\u001b[0;34m\u001b[0m\u001b[0;34m\u001b[0m\u001b[0m\n\u001b[1;32m    510\u001b[0m         \u001b[0;32melse\u001b[0m\u001b[0;34m:\u001b[0m\u001b[0;34m\u001b[0m\u001b[0;34m\u001b[0m\u001b[0m\n\u001b[0;32m--> 511\u001b[0;31m             \u001b[0;32mreturn\u001b[0m \u001b[0mself\u001b[0m\u001b[0;34m.\u001b[0m\u001b[0mexecute_command\u001b[0m\u001b[0;34m(\u001b[0m\u001b[0mgenerator\u001b[0m\u001b[0;34m,\u001b[0m \u001b[0mwrite_concern\u001b[0m\u001b[0;34m,\u001b[0m \u001b[0msession\u001b[0m\u001b[0;34m)\u001b[0m\u001b[0;34m\u001b[0m\u001b[0;34m\u001b[0m\u001b[0m\n\u001b[0m\u001b[1;32m    512\u001b[0m \u001b[0;34m\u001b[0m\u001b[0m\n\u001b[1;32m    513\u001b[0m \u001b[0;34m\u001b[0m\u001b[0m\n",
      "\u001b[0;32m/usr/local/lib/python3.7/site-packages/pymongo/bulk.py\u001b[0m in \u001b[0;36mexecute_command\u001b[0;34m(self, generator, write_concern, session)\u001b[0m\n\u001b[1;32m    347\u001b[0m \u001b[0;34m\u001b[0m\u001b[0m\n\u001b[1;32m    348\u001b[0m         \u001b[0;32mif\u001b[0m \u001b[0mfull_result\u001b[0m\u001b[0;34m[\u001b[0m\u001b[0;34m\"writeErrors\"\u001b[0m\u001b[0;34m]\u001b[0m \u001b[0;32mor\u001b[0m \u001b[0mfull_result\u001b[0m\u001b[0;34m[\u001b[0m\u001b[0;34m\"writeConcernErrors\"\u001b[0m\u001b[0;34m]\u001b[0m\u001b[0;34m:\u001b[0m\u001b[0;34m\u001b[0m\u001b[0;34m\u001b[0m\u001b[0m\n\u001b[0;32m--> 349\u001b[0;31m             \u001b[0m_raise_bulk_write_error\u001b[0m\u001b[0;34m(\u001b[0m\u001b[0mfull_result\u001b[0m\u001b[0;34m)\u001b[0m\u001b[0;34m\u001b[0m\u001b[0;34m\u001b[0m\u001b[0m\n\u001b[0m\u001b[1;32m    350\u001b[0m         \u001b[0;32mreturn\u001b[0m \u001b[0mfull_result\u001b[0m\u001b[0;34m\u001b[0m\u001b[0;34m\u001b[0m\u001b[0m\n\u001b[1;32m    351\u001b[0m \u001b[0;34m\u001b[0m\u001b[0m\n",
      "\u001b[0;32m/usr/local/lib/python3.7/site-packages/pymongo/bulk.py\u001b[0m in \u001b[0;36m_raise_bulk_write_error\u001b[0;34m(full_result)\u001b[0m\n\u001b[1;32m    138\u001b[0m         full_result[\"writeErrors\"].sort(\n\u001b[1;32m    139\u001b[0m             key=lambda error: error[\"index\"])\n\u001b[0;32m--> 140\u001b[0;31m     \u001b[0;32mraise\u001b[0m \u001b[0mBulkWriteError\u001b[0m\u001b[0;34m(\u001b[0m\u001b[0mfull_result\u001b[0m\u001b[0;34m)\u001b[0m\u001b[0;34m\u001b[0m\u001b[0;34m\u001b[0m\u001b[0m\n\u001b[0m\u001b[1;32m    141\u001b[0m \u001b[0;34m\u001b[0m\u001b[0m\n\u001b[1;32m    142\u001b[0m \u001b[0;34m\u001b[0m\u001b[0m\n",
      "\u001b[0;31mBulkWriteError\u001b[0m: batch op errors occurred"
     ]
    }
   ],
   "source": [
    "query = coll_conver.insert_many(hola_dict)"
   ]
  },
  {
   "cell_type": "code",
   "execution_count": 418,
   "metadata": {},
   "outputs": [
    {
     "data": {
      "text/plain": [
       "[1]"
      ]
     },
     "execution_count": 418,
     "metadata": {},
     "output_type": "execute_result"
    }
   ],
   "source": [
    "q = {\"episode_number\": {\"$exists\": True}}\n",
    "query = coll_conver.find(q, projection={\"episode_number\": 1, \"_id\": 0})\n",
    "findepisode = list(set([episode for i in query for episode in i.values()]))\n",
    "findepisode"
   ]
  },
  {
   "cell_type": "code",
   "execution_count": null,
   "metadata": {},
   "outputs": [],
   "source": []
  }
 ],
 "metadata": {
  "kernelspec": {
   "display_name": "Python 3",
   "language": "python",
   "name": "python3"
  },
  "language_info": {
   "codemirror_mode": {
    "name": "ipython",
    "version": 3
   },
   "file_extension": ".py",
   "mimetype": "text/x-python",
   "name": "python",
   "nbconvert_exporter": "python",
   "pygments_lexer": "ipython3",
   "version": "3.7.6"
  }
 },
 "nbformat": 4,
 "nbformat_minor": 2
}
